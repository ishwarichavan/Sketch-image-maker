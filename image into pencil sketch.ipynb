{
 "cells": [
  {
   "cell_type": "code",
   "execution_count": 16,
   "id": "d1061021",
   "metadata": {},
   "outputs": [
    {
     "name": "stdout",
     "output_type": "stream",
     "text": [
      "Requirement already satisfied: opencv-python in c:\\users\\hp\\lib\\site-packages (4.5.3.56)\n",
      "Requirement already satisfied: numpy>=1.19.3 in c:\\users\\hp\\lib\\site-packages (from opencv-python) (1.19.5)\n",
      "Note: you may need to restart the kernel to use updated packages.\n"
     ]
    }
   ],
   "source": [
    "pip install opencv-python\n"
   ]
  },
  {
   "cell_type": "code",
   "execution_count": 17,
   "id": "4f2f47a6",
   "metadata": {},
   "outputs": [],
   "source": [
    "import cv2\n",
    "\n",
    "#reading image\n",
    "image = cv2.imread(\"girl.jfif\")"
   ]
  },
  {
   "cell_type": "code",
   "execution_count": 18,
   "id": "1085b06f",
   "metadata": {},
   "outputs": [],
   "source": [
    "#converting BGR image to grayscale\n",
    "gray_image = cv2.cvtColor(image, cv2.COLOR_BGR2GRAY)"
   ]
  },
  {
   "cell_type": "code",
   "execution_count": 19,
   "id": "42f35fe7",
   "metadata": {},
   "outputs": [],
   "source": [
    "inverted_image = 255 - gray_image"
   ]
  },
  {
   "cell_type": "code",
   "execution_count": 20,
   "id": "00518f37",
   "metadata": {},
   "outputs": [],
   "source": [
    "blurred = cv2.GaussianBlur(inverted_image, (21, 21), 0)\n",
    "inverted_blurred = 255 - blurred\n",
    "pencil_sketch = cv2.divide(gray_image, inverted_blurred, scale=256.0)"
   ]
  },
  {
   "cell_type": "code",
   "execution_count": null,
   "id": "16e99f0a",
   "metadata": {},
   "outputs": [],
   "source": [
    "cv2.imshow(\"Original Image\", image)\n",
    "cv2.imshow(\"Pencil Sketch of original image\", pencil_sketch)\n",
    "cv2.waitKey(0)"
   ]
  },
  {
   "cell_type": "code",
   "execution_count": null,
   "id": "47eb73d7",
   "metadata": {},
   "outputs": [],
   "source": []
  },
  {
   "cell_type": "code",
   "execution_count": null,
   "id": "9bb5b14a",
   "metadata": {},
   "outputs": [],
   "source": []
  }
 ],
 "metadata": {
  "kernelspec": {
   "display_name": "Python 3 (ipykernel)",
   "language": "python",
   "name": "python3"
  },
  "language_info": {
   "codemirror_mode": {
    "name": "ipython",
    "version": 3
   },
   "file_extension": ".py",
   "mimetype": "text/x-python",
   "name": "python",
   "nbconvert_exporter": "python",
   "pygments_lexer": "ipython3",
   "version": "3.9.6"
  }
 },
 "nbformat": 4,
 "nbformat_minor": 5
}
